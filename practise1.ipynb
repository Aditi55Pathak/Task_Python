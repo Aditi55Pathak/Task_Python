{
 "cells": [
  {
   "cell_type": "code",
   "execution_count": 19,
   "id": "8a1de7f8-f4c2-4ecc-879d-88f6eb85aff7",
   "metadata": {},
   "outputs": [],
   "source": [
    "import pandas as pd\n",
    "import numpy as np\n",
    "import logging\n",
    "import datetime"
   ]
  },
  {
   "cell_type": "code",
   "execution_count": 2,
   "id": "69b5f4d9-5bbb-43ab-b3c3-f1b2a6edcfbf",
   "metadata": {},
   "outputs": [],
   "source": [
    "df=pd.read_csv(\"students_data.csv\")"
   ]
  },
  {
   "cell_type": "code",
   "execution_count": 3,
   "id": "8257063f-995c-45d5-9be6-db2c31fbe0d2",
   "metadata": {},
   "outputs": [
    {
     "data": {
      "text/html": [
       "<div>\n",
       "<style scoped>\n",
       "    .dataframe tbody tr th:only-of-type {\n",
       "        vertical-align: middle;\n",
       "    }\n",
       "\n",
       "    .dataframe tbody tr th {\n",
       "        vertical-align: top;\n",
       "    }\n",
       "\n",
       "    .dataframe thead th {\n",
       "        text-align: right;\n",
       "    }\n",
       "</style>\n",
       "<table border=\"1\" class=\"dataframe\">\n",
       "  <thead>\n",
       "    <tr style=\"text-align: right;\">\n",
       "      <th></th>\n",
       "      <th>StudentID</th>\n",
       "      <th>Name</th>\n",
       "      <th>Citizen</th>\n",
       "      <th>Group</th>\n",
       "      <th>Score</th>\n",
       "    </tr>\n",
       "  </thead>\n",
       "  <tbody>\n",
       "    <tr>\n",
       "      <th>0</th>\n",
       "      <td>101</td>\n",
       "      <td>Akash</td>\n",
       "      <td>India</td>\n",
       "      <td>A</td>\n",
       "      <td>85</td>\n",
       "    </tr>\n",
       "    <tr>\n",
       "      <th>1</th>\n",
       "      <td>105</td>\n",
       "      <td>Rohit</td>\n",
       "      <td>India</td>\n",
       "      <td>A</td>\n",
       "      <td>78</td>\n",
       "    </tr>\n",
       "    <tr>\n",
       "      <th>2</th>\n",
       "      <td>111</td>\n",
       "      <td>Gagan</td>\n",
       "      <td>India</td>\n",
       "      <td>B</td>\n",
       "      <td>92</td>\n",
       "    </tr>\n",
       "    <tr>\n",
       "      <th>3</th>\n",
       "      <td>122</td>\n",
       "      <td>Josh</td>\n",
       "      <td>England</td>\n",
       "      <td>A</td>\n",
       "      <td>88</td>\n",
       "    </tr>\n",
       "    <tr>\n",
       "      <th>4</th>\n",
       "      <td>125</td>\n",
       "      <td>Chandan</td>\n",
       "      <td>India</td>\n",
       "      <td>B</td>\n",
       "      <td>75</td>\n",
       "    </tr>\n",
       "    <tr>\n",
       "      <th>5</th>\n",
       "      <td>130</td>\n",
       "      <td>Ramesh</td>\n",
       "      <td>England</td>\n",
       "      <td>A</td>\n",
       "      <td>91</td>\n",
       "    </tr>\n",
       "    <tr>\n",
       "      <th>6</th>\n",
       "      <td>151</td>\n",
       "      <td>Starc</td>\n",
       "      <td>Australia</td>\n",
       "      <td>B</td>\n",
       "      <td>82</td>\n",
       "    </tr>\n",
       "    <tr>\n",
       "      <th>7</th>\n",
       "      <td>158</td>\n",
       "      <td>Krishna</td>\n",
       "      <td>India</td>\n",
       "      <td>A</td>\n",
       "      <td>89</td>\n",
       "    </tr>\n",
       "    <tr>\n",
       "      <th>8</th>\n",
       "      <td>160</td>\n",
       "      <td>Jugal</td>\n",
       "      <td>India</td>\n",
       "      <td>B</td>\n",
       "      <td>76</td>\n",
       "    </tr>\n",
       "    <tr>\n",
       "      <th>9</th>\n",
       "      <td>170</td>\n",
       "      <td>Anushka</td>\n",
       "      <td>Australia</td>\n",
       "      <td>A</td>\n",
       "      <td>90</td>\n",
       "    </tr>\n",
       "  </tbody>\n",
       "</table>\n",
       "</div>"
      ],
      "text/plain": [
       "   StudentID     Name    Citizen Group  Score\n",
       "0        101    Akash      India     A     85\n",
       "1        105    Rohit      India     A     78\n",
       "2        111    Gagan      India     B     92\n",
       "3        122     Josh    England     A     88\n",
       "4        125  Chandan      India     B     75\n",
       "5        130   Ramesh    England     A     91\n",
       "6        151    Starc  Australia     B     82\n",
       "7        158  Krishna      India     A     89\n",
       "8        160    Jugal      India     B     76\n",
       "9        170  Anushka  Australia     A     90"
      ]
     },
     "execution_count": 3,
     "metadata": {},
     "output_type": "execute_result"
    }
   ],
   "source": [
    "df"
   ]
  },
  {
   "cell_type": "code",
   "execution_count": 4,
   "id": "fdba7a39-e8e4-48cd-8d27-95e1a0f51a49",
   "metadata": {},
   "outputs": [],
   "source": [
    "head_set=df.head(5)"
   ]
  },
  {
   "cell_type": "code",
   "execution_count": 5,
   "id": "e8d88610-7422-4b02-bc25-7c5ab89fe789",
   "metadata": {},
   "outputs": [
    {
     "data": {
      "text/html": [
       "<div>\n",
       "<style scoped>\n",
       "    .dataframe tbody tr th:only-of-type {\n",
       "        vertical-align: middle;\n",
       "    }\n",
       "\n",
       "    .dataframe tbody tr th {\n",
       "        vertical-align: top;\n",
       "    }\n",
       "\n",
       "    .dataframe thead th {\n",
       "        text-align: right;\n",
       "    }\n",
       "</style>\n",
       "<table border=\"1\" class=\"dataframe\">\n",
       "  <thead>\n",
       "    <tr style=\"text-align: right;\">\n",
       "      <th></th>\n",
       "      <th>StudentID</th>\n",
       "      <th>Name</th>\n",
       "      <th>Citizen</th>\n",
       "      <th>Group</th>\n",
       "      <th>Score</th>\n",
       "    </tr>\n",
       "  </thead>\n",
       "  <tbody>\n",
       "    <tr>\n",
       "      <th>0</th>\n",
       "      <td>101</td>\n",
       "      <td>Akash</td>\n",
       "      <td>India</td>\n",
       "      <td>A</td>\n",
       "      <td>85</td>\n",
       "    </tr>\n",
       "    <tr>\n",
       "      <th>1</th>\n",
       "      <td>105</td>\n",
       "      <td>Rohit</td>\n",
       "      <td>India</td>\n",
       "      <td>A</td>\n",
       "      <td>78</td>\n",
       "    </tr>\n",
       "    <tr>\n",
       "      <th>2</th>\n",
       "      <td>111</td>\n",
       "      <td>Gagan</td>\n",
       "      <td>India</td>\n",
       "      <td>B</td>\n",
       "      <td>92</td>\n",
       "    </tr>\n",
       "    <tr>\n",
       "      <th>3</th>\n",
       "      <td>122</td>\n",
       "      <td>Josh</td>\n",
       "      <td>England</td>\n",
       "      <td>A</td>\n",
       "      <td>88</td>\n",
       "    </tr>\n",
       "    <tr>\n",
       "      <th>4</th>\n",
       "      <td>125</td>\n",
       "      <td>Chandan</td>\n",
       "      <td>India</td>\n",
       "      <td>B</td>\n",
       "      <td>75</td>\n",
       "    </tr>\n",
       "  </tbody>\n",
       "</table>\n",
       "</div>"
      ],
      "text/plain": [
       "   StudentID     Name  Citizen Group  Score\n",
       "0        101    Akash    India     A     85\n",
       "1        105    Rohit    India     A     78\n",
       "2        111    Gagan    India     B     92\n",
       "3        122     Josh  England     A     88\n",
       "4        125  Chandan    India     B     75"
      ]
     },
     "execution_count": 5,
     "metadata": {},
     "output_type": "execute_result"
    }
   ],
   "source": [
    "head_set"
   ]
  },
  {
   "cell_type": "code",
   "execution_count": 11,
   "id": "b1961843-c94f-4ecb-8c86-870843a7c298",
   "metadata": {},
   "outputs": [],
   "source": [
    "df['Average_score']=df['Score']\n",
    "avg_score=df.groupby('StudentID')['Average_score'].mean()"
   ]
  },
  {
   "cell_type": "code",
   "execution_count": 12,
   "id": "540337e2-b22e-4796-87bc-ac4545ed1926",
   "metadata": {},
   "outputs": [
    {
     "data": {
      "text/plain": [
       "StudentID\n",
       "101    85.0\n",
       "105    78.0\n",
       "111    92.0\n",
       "122    88.0\n",
       "125    75.0\n",
       "130    91.0\n",
       "151    82.0\n",
       "158    89.0\n",
       "160    76.0\n",
       "170    90.0\n",
       "Name: Average_score, dtype: float64"
      ]
     },
     "execution_count": 12,
     "metadata": {},
     "output_type": "execute_result"
    }
   ],
   "source": [
    "avg_score"
   ]
  },
  {
   "cell_type": "code",
   "execution_count": 13,
   "id": "79d534b3-5764-49c0-b914-870cee4d312c",
   "metadata": {},
   "outputs": [
    {
     "data": {
      "text/html": [
       "<div>\n",
       "<style scoped>\n",
       "    .dataframe tbody tr th:only-of-type {\n",
       "        vertical-align: middle;\n",
       "    }\n",
       "\n",
       "    .dataframe tbody tr th {\n",
       "        vertical-align: top;\n",
       "    }\n",
       "\n",
       "    .dataframe thead th {\n",
       "        text-align: right;\n",
       "    }\n",
       "</style>\n",
       "<table border=\"1\" class=\"dataframe\">\n",
       "  <thead>\n",
       "    <tr style=\"text-align: right;\">\n",
       "      <th></th>\n",
       "      <th>StudentID</th>\n",
       "      <th>Name</th>\n",
       "      <th>Citizen</th>\n",
       "      <th>Group</th>\n",
       "      <th>Score</th>\n",
       "      <th>Average_score</th>\n",
       "    </tr>\n",
       "  </thead>\n",
       "  <tbody>\n",
       "    <tr>\n",
       "      <th>0</th>\n",
       "      <td>101</td>\n",
       "      <td>Akash</td>\n",
       "      <td>India</td>\n",
       "      <td>A</td>\n",
       "      <td>85</td>\n",
       "      <td>85</td>\n",
       "    </tr>\n",
       "    <tr>\n",
       "      <th>1</th>\n",
       "      <td>105</td>\n",
       "      <td>Rohit</td>\n",
       "      <td>India</td>\n",
       "      <td>A</td>\n",
       "      <td>78</td>\n",
       "      <td>78</td>\n",
       "    </tr>\n",
       "    <tr>\n",
       "      <th>2</th>\n",
       "      <td>111</td>\n",
       "      <td>Gagan</td>\n",
       "      <td>India</td>\n",
       "      <td>B</td>\n",
       "      <td>92</td>\n",
       "      <td>92</td>\n",
       "    </tr>\n",
       "    <tr>\n",
       "      <th>3</th>\n",
       "      <td>122</td>\n",
       "      <td>Josh</td>\n",
       "      <td>England</td>\n",
       "      <td>A</td>\n",
       "      <td>88</td>\n",
       "      <td>88</td>\n",
       "    </tr>\n",
       "    <tr>\n",
       "      <th>4</th>\n",
       "      <td>125</td>\n",
       "      <td>Chandan</td>\n",
       "      <td>India</td>\n",
       "      <td>B</td>\n",
       "      <td>75</td>\n",
       "      <td>75</td>\n",
       "    </tr>\n",
       "    <tr>\n",
       "      <th>5</th>\n",
       "      <td>130</td>\n",
       "      <td>Ramesh</td>\n",
       "      <td>England</td>\n",
       "      <td>A</td>\n",
       "      <td>91</td>\n",
       "      <td>91</td>\n",
       "    </tr>\n",
       "    <tr>\n",
       "      <th>6</th>\n",
       "      <td>151</td>\n",
       "      <td>Starc</td>\n",
       "      <td>Australia</td>\n",
       "      <td>B</td>\n",
       "      <td>82</td>\n",
       "      <td>82</td>\n",
       "    </tr>\n",
       "    <tr>\n",
       "      <th>7</th>\n",
       "      <td>158</td>\n",
       "      <td>Krishna</td>\n",
       "      <td>India</td>\n",
       "      <td>A</td>\n",
       "      <td>89</td>\n",
       "      <td>89</td>\n",
       "    </tr>\n",
       "    <tr>\n",
       "      <th>8</th>\n",
       "      <td>160</td>\n",
       "      <td>Jugal</td>\n",
       "      <td>India</td>\n",
       "      <td>B</td>\n",
       "      <td>76</td>\n",
       "      <td>76</td>\n",
       "    </tr>\n",
       "    <tr>\n",
       "      <th>9</th>\n",
       "      <td>170</td>\n",
       "      <td>Anushka</td>\n",
       "      <td>Australia</td>\n",
       "      <td>A</td>\n",
       "      <td>90</td>\n",
       "      <td>90</td>\n",
       "    </tr>\n",
       "  </tbody>\n",
       "</table>\n",
       "</div>"
      ],
      "text/plain": [
       "   StudentID     Name    Citizen Group  Score  Average_score\n",
       "0        101    Akash      India     A     85             85\n",
       "1        105    Rohit      India     A     78             78\n",
       "2        111    Gagan      India     B     92             92\n",
       "3        122     Josh    England     A     88             88\n",
       "4        125  Chandan      India     B     75             75\n",
       "5        130   Ramesh    England     A     91             91\n",
       "6        151    Starc  Australia     B     82             82\n",
       "7        158  Krishna      India     A     89             89\n",
       "8        160    Jugal      India     B     76             76\n",
       "9        170  Anushka  Australia     A     90             90"
      ]
     },
     "execution_count": 13,
     "metadata": {},
     "output_type": "execute_result"
    }
   ],
   "source": [
    "df"
   ]
  },
  {
   "cell_type": "code",
   "execution_count": 16,
   "id": "b0b9ab4c-0c5a-4eca-b865-bfe2874f2faa",
   "metadata": {},
   "outputs": [],
   "source": [
    "highest= df.loc[df['Score'].idxmax()]"
   ]
  },
  {
   "cell_type": "code",
   "execution_count": 17,
   "id": "f8430870-c56e-4338-99f9-8634a0eac789",
   "metadata": {},
   "outputs": [
    {
     "data": {
      "text/plain": [
       "StudentID          111\n",
       "Name             Gagan\n",
       "Citizen          India\n",
       "Group                B\n",
       "Score               92\n",
       "Average_score       92\n",
       "Name: 2, dtype: object"
      ]
     },
     "execution_count": 17,
     "metadata": {},
     "output_type": "execute_result"
    }
   ],
   "source": [
    "highest\n"
   ]
  },
  {
   "cell_type": "code",
   "execution_count": 32,
   "id": "d1007a86-b215-442a-8538-083323f5a8bb",
   "metadata": {},
   "outputs": [],
   "source": [
    "def log_mess(message):\n",
    "    timestamp=datetime.datetime.now().strftime(\"%Y-%m-%d %H-%M-%S\")\n",
    "    log_entry=f\"{timestamp}-{message}\"\n",
    "    with open(\"studentsLog.txt\",'a') as f:\n",
    "        f.write(log_entry)"
   ]
  },
  {
   "cell_type": "code",
   "execution_count": 33,
   "id": "656c1b3a-c5d7-4fec-8b3a-6ea426f43cb3",
   "metadata": {},
   "outputs": [],
   "source": [
    "log_mess(\"Total number of students in dataset\")\n",
    "total=df.shape[0]\n",
    "log_mess(str(total))"
   ]
  },
  {
   "cell_type": "code",
   "execution_count": 34,
   "id": "4b475ef9-8f38-4206-aa57-d9cccaa764fe",
   "metadata": {},
   "outputs": [
    {
     "data": {
      "text/plain": [
       "10"
      ]
     },
     "execution_count": 34,
     "metadata": {},
     "output_type": "execute_result"
    }
   ],
   "source": [
    "total"
   ]
  },
  {
   "cell_type": "code",
   "execution_count": null,
   "id": "8f32e1a3-91fb-4762-a7da-2c9e0fbbfe7f",
   "metadata": {},
   "outputs": [],
   "source": []
  }
 ],
 "metadata": {
  "kernelspec": {
   "display_name": "Python 3 (ipykernel)",
   "language": "python",
   "name": "python3"
  },
  "language_info": {
   "codemirror_mode": {
    "name": "ipython",
    "version": 3
   },
   "file_extension": ".py",
   "mimetype": "text/x-python",
   "name": "python",
   "nbconvert_exporter": "python",
   "pygments_lexer": "ipython3",
   "version": "3.11.4"
  }
 },
 "nbformat": 4,
 "nbformat_minor": 5
}
