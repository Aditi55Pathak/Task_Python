{
 "cells": [
  {
   "cell_type": "code",
   "execution_count": 19,
   "id": "f6888595-d667-466b-b867-4638f679a5e4",
   "metadata": {},
   "outputs": [],
   "source": [
    "import pandas as pd\n",
    "import numpy as np\n",
    "import datetime"
   ]
  },
  {
   "cell_type": "code",
   "execution_count": 20,
   "id": "9d5711fe-7d18-4afb-b7ae-fc24ba4f2159",
   "metadata": {},
   "outputs": [],
   "source": [
    "def log_event(message):\n",
    "    timestamp=datetime.datetime.now().strftime(\"%Y-%m-%d %H:%M:%S\")\n",
    "    log_entry=f\"{timestamp}: {message}\"\n",
    "    with open(\"log.txt\", 'a') as f:\n",
    "        mess=f.write(log_entry)"
   ]
  },
  {
   "cell_type": "code",
   "execution_count": 21,
   "id": "c5e59093-d38a-4edf-8e31-3256e38c2690",
   "metadata": {},
   "outputs": [],
   "source": [
    "log_event(\" <---- Starting reading of database  ---->\")\n",
    "df=pd.read_csv(\"Students_data.csv\")\n",
    "log_event(\" <---- Displaing first five rows of database  ---->\")\n",
    "f_df=df.head(5)\n",
    "log_event(\" <---- Displaing last five rows of database  ---->\")\n",
    "l_df=df.tail(5)"
   ]
  },
  {
   "cell_type": "code",
   "execution_count": 22,
   "id": "26425a84-e958-4b66-9632-067f924328ce",
   "metadata": {},
   "outputs": [],
   "source": [
    "timestamp = datetime.datetime.now().strftime(\"%Y-%m-%d %H_%M_%S\")\n",
    "new_filename = f\"updated_csv_file_{timestamp}.csv\"\n",
    "df.to_csv(new_filename)\n",
    "log_event(\"Updated new file\")"
   ]
  },
  {
   "cell_type": "code",
   "execution_count": 23,
   "id": "67d389e2-0100-4f59-b07c-c106121b1e6f",
   "metadata": {},
   "outputs": [],
   "source": [
    "avg_score=df['Score'].mean()\n",
    "log_event(\" <---- Displaing mean of database  ---->\")\n",
    "avg_std=df['Score'].std()\n",
    "log_event(\" <---- Displaing std of database  ---->\")"
   ]
  },
  {
   "cell_type": "code",
   "execution_count": 24,
   "id": "ef2f30cb-b3a7-4b68-b87f-02216f9fa0fe",
   "metadata": {},
   "outputs": [],
   "source": [
    "top_stu=df.sort_values(by='Score', ascending=False)\n",
    "log_event(\" <---- Displaing our top students ---->\")\n",
    "log_event(str(top_stu))"
   ]
  },
  {
   "cell_type": "code",
   "execution_count": 25,
   "id": "a6db49fc-de63-4f49-a2ed-12f9bc5318c7",
   "metadata": {},
   "outputs": [],
   "source": [
    "df.loc[(df['Group']=='A')& (df['Score']>85)]\n",
    "name=df.sort_values(by='Name', ascending=True)\n",
    "log_event(\" <---- Displaing Groups by name and score  ---->\")"
   ]
  }
 ],
 "metadata": {
  "kernelspec": {
   "display_name": "Python 3 (ipykernel)",
   "language": "python",
   "name": "python3"
  },
  "language_info": {
   "codemirror_mode": {
    "name": "ipython",
    "version": 3
   },
   "file_extension": ".py",
   "mimetype": "text/x-python",
   "name": "python",
   "nbconvert_exporter": "python",
   "pygments_lexer": "ipython3",
   "version": "3.11.4"
  }
 },
 "nbformat": 4,
 "nbformat_minor": 5
}
