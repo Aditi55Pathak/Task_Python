{
 "cells": [
  {
   "cell_type": "code",
   "execution_count": 2,
   "id": "b0592506-0528-431c-96c6-aaded60ddfda",
   "metadata": {},
   "outputs": [],
   "source": [
    "import numpy as np\n",
    "import pandas as pd"
   ]
  },
  {
   "cell_type": "code",
   "execution_count": 2,
   "id": "d9fa6923-861a-4ba1-9084-3b1752a0649f",
   "metadata": {},
   "outputs": [],
   "source": [
    "one=np.array([1,2,3,4,5,6])"
   ]
  },
  {
   "cell_type": "code",
   "execution_count": 3,
   "id": "04f76c31-e086-4eeb-95a9-4a12be6424c7",
   "metadata": {},
   "outputs": [
    {
     "data": {
      "text/plain": [
       "array([1, 2, 3, 4, 5, 6])"
      ]
     },
     "execution_count": 3,
     "metadata": {},
     "output_type": "execute_result"
    }
   ],
   "source": [
    "one"
   ]
  },
  {
   "cell_type": "code",
   "execution_count": 4,
   "id": "672f016f-8e2f-4faf-8281-489b4154acb8",
   "metadata": {},
   "outputs": [
    {
     "data": {
      "text/plain": [
       "numpy.ndarray"
      ]
     },
     "execution_count": 4,
     "metadata": {},
     "output_type": "execute_result"
    }
   ],
   "source": [
    "type(one)"
   ]
  },
  {
   "cell_type": "code",
   "execution_count": 7,
   "id": "ae5b80ca-517b-4fe6-949a-d9d294c8ec60",
   "metadata": {},
   "outputs": [],
   "source": [
    "one=np.array([[1,2,3],[4,5,6]])"
   ]
  },
  {
   "cell_type": "code",
   "execution_count": 8,
   "id": "ad8bc0fe-8ba1-4944-83f8-2aa66d4b6d02",
   "metadata": {},
   "outputs": [
    {
     "data": {
      "text/plain": [
       "array([[1, 2, 3],\n",
       "       [4, 5, 6]])"
      ]
     },
     "execution_count": 8,
     "metadata": {},
     "output_type": "execute_result"
    }
   ],
   "source": [
    "one"
   ]
  },
  {
   "cell_type": "code",
   "execution_count": 9,
   "id": "be61c19f-528d-471d-8edf-dced2fd1d6e5",
   "metadata": {},
   "outputs": [],
   "source": [
    "one=np.ones((3,2))"
   ]
  },
  {
   "cell_type": "code",
   "execution_count": 10,
   "id": "36691ba5-674f-4a3a-9d7d-3e2ba742a3e2",
   "metadata": {},
   "outputs": [
    {
     "data": {
      "text/plain": [
       "array([[1., 1.],\n",
       "       [1., 1.],\n",
       "       [1., 1.]])"
      ]
     },
     "execution_count": 10,
     "metadata": {},
     "output_type": "execute_result"
    }
   ],
   "source": [
    "one"
   ]
  },
  {
   "cell_type": "code",
   "execution_count": 11,
   "id": "e38bad5d-b1a2-42ab-a8d7-9c78ae1125c1",
   "metadata": {},
   "outputs": [],
   "source": [
    "range_array = np.arange(0, 10, 2)"
   ]
  },
  {
   "cell_type": "code",
   "execution_count": 12,
   "id": "1992109b-9f17-4567-acf6-66251ce195b3",
   "metadata": {},
   "outputs": [
    {
     "data": {
      "text/plain": [
       "array([0, 2, 4, 6, 8])"
      ]
     },
     "execution_count": 12,
     "metadata": {},
     "output_type": "execute_result"
    }
   ],
   "source": [
    "range_array"
   ]
  },
  {
   "cell_type": "code",
   "execution_count": 14,
   "id": "67974997-dbd8-4ca4-b2f3-a36aaed6d7fe",
   "metadata": {},
   "outputs": [
    {
     "name": "stdout",
     "output_type": "stream",
     "text": [
      "(2, 3)\n",
      "2\n",
      "6\n",
      "int32\n"
     ]
    }
   ],
   "source": [
    "arr_2d=np.array([[1,2,3],[4,5,6]])\n",
    "print(arr_2d.shape)  # Shape of the array (rows, columns)\n",
    "print(arr_2d.ndim)   # Number of dimensions\n",
    "print(arr_2d.size)   # Total number of elements\n",
    "print(arr_2d.dtype)  # Data type of the elements\n"
   ]
  },
  {
   "cell_type": "code",
   "execution_count": 15,
   "id": "4ccd595c-5dfb-4298-9f37-c1e0b3c37c21",
   "metadata": {},
   "outputs": [],
   "source": [
    "# Create an array of values\n",
    "data = np.array([1, 2, 2, 3, 3, 3, 4, 4, 4, 4])\n",
    "\n",
    "# Calculate the standard deviation\n",
    "std_dev = np.std(data)\n"
   ]
  },
  {
   "cell_type": "code",
   "execution_count": 16,
   "id": "4e3ec798-d894-49ab-8d38-9465caa46a23",
   "metadata": {},
   "outputs": [
    {
     "data": {
      "text/plain": [
       "1.0"
      ]
     },
     "execution_count": 16,
     "metadata": {},
     "output_type": "execute_result"
    }
   ],
   "source": [
    "std_dev"
   ]
  },
  {
   "cell_type": "code",
   "execution_count": 18,
   "id": "e508a7b3-eeec-497f-b295-5c2aadcc076a",
   "metadata": {},
   "outputs": [],
   "source": [
    "df=pd.read_csv('Students_data.csv')"
   ]
  },
  {
   "cell_type": "code",
   "execution_count": 19,
   "id": "18ffb37c-463e-412e-9251-7b4add3909dd",
   "metadata": {},
   "outputs": [
    {
     "data": {
      "text/html": [
       "<div>\n",
       "<style scoped>\n",
       "    .dataframe tbody tr th:only-of-type {\n",
       "        vertical-align: middle;\n",
       "    }\n",
       "\n",
       "    .dataframe tbody tr th {\n",
       "        vertical-align: top;\n",
       "    }\n",
       "\n",
       "    .dataframe thead th {\n",
       "        text-align: right;\n",
       "    }\n",
       "</style>\n",
       "<table border=\"1\" class=\"dataframe\">\n",
       "  <thead>\n",
       "    <tr style=\"text-align: right;\">\n",
       "      <th></th>\n",
       "      <th>StudentID</th>\n",
       "      <th>Name</th>\n",
       "      <th>Citizen</th>\n",
       "      <th>Group</th>\n",
       "      <th>Score</th>\n",
       "    </tr>\n",
       "  </thead>\n",
       "  <tbody>\n",
       "    <tr>\n",
       "      <th>0</th>\n",
       "      <td>101</td>\n",
       "      <td>Akash</td>\n",
       "      <td>India</td>\n",
       "      <td>A</td>\n",
       "      <td>85</td>\n",
       "    </tr>\n",
       "    <tr>\n",
       "      <th>1</th>\n",
       "      <td>105</td>\n",
       "      <td>Rohit</td>\n",
       "      <td>India</td>\n",
       "      <td>A</td>\n",
       "      <td>78</td>\n",
       "    </tr>\n",
       "    <tr>\n",
       "      <th>2</th>\n",
       "      <td>111</td>\n",
       "      <td>Gagan</td>\n",
       "      <td>India</td>\n",
       "      <td>B</td>\n",
       "      <td>92</td>\n",
       "    </tr>\n",
       "    <tr>\n",
       "      <th>3</th>\n",
       "      <td>122</td>\n",
       "      <td>Josh</td>\n",
       "      <td>England</td>\n",
       "      <td>A</td>\n",
       "      <td>88</td>\n",
       "    </tr>\n",
       "    <tr>\n",
       "      <th>4</th>\n",
       "      <td>125</td>\n",
       "      <td>Chandan</td>\n",
       "      <td>India</td>\n",
       "      <td>B</td>\n",
       "      <td>75</td>\n",
       "    </tr>\n",
       "    <tr>\n",
       "      <th>5</th>\n",
       "      <td>130</td>\n",
       "      <td>Ramesh</td>\n",
       "      <td>England</td>\n",
       "      <td>A</td>\n",
       "      <td>91</td>\n",
       "    </tr>\n",
       "    <tr>\n",
       "      <th>6</th>\n",
       "      <td>151</td>\n",
       "      <td>Starc</td>\n",
       "      <td>Australia</td>\n",
       "      <td>B</td>\n",
       "      <td>82</td>\n",
       "    </tr>\n",
       "    <tr>\n",
       "      <th>7</th>\n",
       "      <td>158</td>\n",
       "      <td>Krishna</td>\n",
       "      <td>India</td>\n",
       "      <td>A</td>\n",
       "      <td>89</td>\n",
       "    </tr>\n",
       "    <tr>\n",
       "      <th>8</th>\n",
       "      <td>160</td>\n",
       "      <td>Jugal</td>\n",
       "      <td>India</td>\n",
       "      <td>B</td>\n",
       "      <td>76</td>\n",
       "    </tr>\n",
       "    <tr>\n",
       "      <th>9</th>\n",
       "      <td>170</td>\n",
       "      <td>Anushka</td>\n",
       "      <td>Australia</td>\n",
       "      <td>A</td>\n",
       "      <td>90</td>\n",
       "    </tr>\n",
       "  </tbody>\n",
       "</table>\n",
       "</div>"
      ],
      "text/plain": [
       "   StudentID     Name    Citizen Group  Score\n",
       "0        101    Akash      India     A     85\n",
       "1        105    Rohit      India     A     78\n",
       "2        111    Gagan      India     B     92\n",
       "3        122     Josh    England     A     88\n",
       "4        125  Chandan      India     B     75\n",
       "5        130   Ramesh    England     A     91\n",
       "6        151    Starc  Australia     B     82\n",
       "7        158  Krishna      India     A     89\n",
       "8        160    Jugal      India     B     76\n",
       "9        170  Anushka  Australia     A     90"
      ]
     },
     "execution_count": 19,
     "metadata": {},
     "output_type": "execute_result"
    }
   ],
   "source": [
    "df"
   ]
  },
  {
   "cell_type": "code",
   "execution_count": 24,
   "id": "fd0cbe7c-d9bb-48b6-8042-7f00bb5c8b8f",
   "metadata": {},
   "outputs": [],
   "source": [
    "mean_score = df['Score'].mean()"
   ]
  },
  {
   "cell_type": "code",
   "execution_count": 26,
   "id": "2cc1d770-96c9-4516-baec-14c20c0af9fc",
   "metadata": {},
   "outputs": [
    {
     "data": {
      "text/plain": [
       "84.6"
      ]
     },
     "execution_count": 26,
     "metadata": {},
     "output_type": "execute_result"
    }
   ],
   "source": [
    "mean_score"
   ]
  },
  {
   "cell_type": "code",
   "execution_count": 27,
   "id": "3fd257f2-1962-41f6-b1b0-da4a1380ce51",
   "metadata": {},
   "outputs": [],
   "source": [
    "std_score = df['Score'].std()"
   ]
  },
  {
   "cell_type": "code",
   "execution_count": 29,
   "id": "92c9a2bc-8ddc-4712-9ff1-35bf0b562673",
   "metadata": {},
   "outputs": [
    {
     "data": {
      "text/plain": [
       "6.432556084308771"
      ]
     },
     "execution_count": 29,
     "metadata": {},
     "output_type": "execute_result"
    }
   ],
   "source": [
    "std_score"
   ]
  },
  {
   "cell_type": "code",
   "execution_count": 32,
   "id": "9f0a27f7-cd3d-47d1-b0a2-3ac6826602ab",
   "metadata": {},
   "outputs": [],
   "source": [
    "max = df['Score'].max()"
   ]
  },
  {
   "cell_type": "code",
   "execution_count": 33,
   "id": "a76b6617-a04d-4d19-9fb1-c0d53a4868cb",
   "metadata": {},
   "outputs": [
    {
     "data": {
      "text/plain": [
       "92"
      ]
     },
     "execution_count": 33,
     "metadata": {},
     "output_type": "execute_result"
    }
   ],
   "source": [
    "max"
   ]
  },
  {
   "cell_type": "code",
   "execution_count": 37,
   "id": "e8b65c13-b6de-4f18-896e-0c05ac28f3c3",
   "metadata": {},
   "outputs": [],
   "source": [
    "my_sort=df.sort_values(by='Score', ascending=False)"
   ]
  },
  {
   "cell_type": "code",
   "execution_count": 38,
   "id": "632f6a5b-50a9-4ae0-ac3a-9da48ce763d0",
   "metadata": {},
   "outputs": [
    {
     "data": {
      "text/html": [
       "<div>\n",
       "<style scoped>\n",
       "    .dataframe tbody tr th:only-of-type {\n",
       "        vertical-align: middle;\n",
       "    }\n",
       "\n",
       "    .dataframe tbody tr th {\n",
       "        vertical-align: top;\n",
       "    }\n",
       "\n",
       "    .dataframe thead th {\n",
       "        text-align: right;\n",
       "    }\n",
       "</style>\n",
       "<table border=\"1\" class=\"dataframe\">\n",
       "  <thead>\n",
       "    <tr style=\"text-align: right;\">\n",
       "      <th></th>\n",
       "      <th>StudentID</th>\n",
       "      <th>Name</th>\n",
       "      <th>Citizen</th>\n",
       "      <th>Group</th>\n",
       "      <th>Score</th>\n",
       "    </tr>\n",
       "  </thead>\n",
       "  <tbody>\n",
       "    <tr>\n",
       "      <th>2</th>\n",
       "      <td>111</td>\n",
       "      <td>Gagan</td>\n",
       "      <td>India</td>\n",
       "      <td>B</td>\n",
       "      <td>92</td>\n",
       "    </tr>\n",
       "    <tr>\n",
       "      <th>5</th>\n",
       "      <td>130</td>\n",
       "      <td>Ramesh</td>\n",
       "      <td>England</td>\n",
       "      <td>A</td>\n",
       "      <td>91</td>\n",
       "    </tr>\n",
       "    <tr>\n",
       "      <th>9</th>\n",
       "      <td>170</td>\n",
       "      <td>Anushka</td>\n",
       "      <td>Australia</td>\n",
       "      <td>A</td>\n",
       "      <td>90</td>\n",
       "    </tr>\n",
       "    <tr>\n",
       "      <th>7</th>\n",
       "      <td>158</td>\n",
       "      <td>Krishna</td>\n",
       "      <td>India</td>\n",
       "      <td>A</td>\n",
       "      <td>89</td>\n",
       "    </tr>\n",
       "    <tr>\n",
       "      <th>3</th>\n",
       "      <td>122</td>\n",
       "      <td>Josh</td>\n",
       "      <td>England</td>\n",
       "      <td>A</td>\n",
       "      <td>88</td>\n",
       "    </tr>\n",
       "  </tbody>\n",
       "</table>\n",
       "</div>"
      ],
      "text/plain": [
       "   StudentID     Name    Citizen Group  Score\n",
       "2        111    Gagan      India     B     92\n",
       "5        130   Ramesh    England     A     91\n",
       "9        170  Anushka  Australia     A     90\n",
       "7        158  Krishna      India     A     89\n",
       "3        122     Josh    England     A     88"
      ]
     },
     "execution_count": 38,
     "metadata": {},
     "output_type": "execute_result"
    }
   ],
   "source": [
    "my_sort.head(5)"
   ]
  },
  {
   "cell_type": "code",
   "execution_count": 39,
   "id": "48ad5bec-df14-495e-88d6-51ff8c96edd7",
   "metadata": {},
   "outputs": [],
   "source": [
    "arr=np.arange(1,10)"
   ]
  },
  {
   "cell_type": "code",
   "execution_count": 40,
   "id": "1c44656d-6cb1-4a74-8f2e-a56369566066",
   "metadata": {},
   "outputs": [
    {
     "data": {
      "text/plain": [
       "array([1, 2, 3, 4, 5, 6, 7, 8, 9])"
      ]
     },
     "execution_count": 40,
     "metadata": {},
     "output_type": "execute_result"
    }
   ],
   "source": [
    "arr"
   ]
  },
  {
   "cell_type": "code",
   "execution_count": 42,
   "id": "89847fb8-1f43-4462-8582-95ec6b8d487b",
   "metadata": {},
   "outputs": [],
   "source": [
    "myarr=arr*arr"
   ]
  },
  {
   "cell_type": "code",
   "execution_count": 43,
   "id": "058e6c7b-288a-4f43-aeee-ea9b904ec921",
   "metadata": {},
   "outputs": [
    {
     "data": {
      "text/plain": [
       "array([ 1,  4,  9, 16, 25, 36, 49, 64, 81])"
      ]
     },
     "execution_count": 43,
     "metadata": {},
     "output_type": "execute_result"
    }
   ],
   "source": [
    "myarr"
   ]
  },
  {
   "cell_type": "code",
   "execution_count": 44,
   "id": "08b15dc8-4d0b-4b84-b6ee-5c4190e41267",
   "metadata": {},
   "outputs": [],
   "source": [
    "mean=myarr.mean()"
   ]
  },
  {
   "cell_type": "code",
   "execution_count": 45,
   "id": "707485cd-52b4-41a3-9cf8-a1e4fa94c6a4",
   "metadata": {},
   "outputs": [],
   "source": [
    "std=myarr.std()"
   ]
  },
  {
   "cell_type": "code",
   "execution_count": 46,
   "id": "2002694f-66cc-438d-aed4-9f7f8f0da3e9",
   "metadata": {},
   "outputs": [
    {
     "data": {
      "text/plain": [
       "31.666666666666668"
      ]
     },
     "execution_count": 46,
     "metadata": {},
     "output_type": "execute_result"
    }
   ],
   "source": [
    "mean"
   ]
  },
  {
   "cell_type": "code",
   "execution_count": 47,
   "id": "a149bef5-4a24-4eaf-b72d-73f729d30684",
   "metadata": {},
   "outputs": [
    {
     "data": {
      "text/plain": [
       "26.474306202219704"
      ]
     },
     "execution_count": 47,
     "metadata": {},
     "output_type": "execute_result"
    }
   ],
   "source": [
    "std"
   ]
  },
  {
   "cell_type": "code",
   "execution_count": 49,
   "id": "8b2858a9-93d4-4e88-8464-be3e7396c777",
   "metadata": {},
   "outputs": [
    {
     "data": {
      "text/plain": [
       "array([ 1,  4,  9, 16, 25, 36, 49, 64, 81])"
      ]
     },
     "execution_count": 49,
     "metadata": {},
     "output_type": "execute_result"
    }
   ],
   "source": [
    "np.square(arr)"
   ]
  },
  {
   "cell_type": "code",
   "execution_count": 52,
   "id": "333069ee-bee9-40ca-88cd-b39e86740ffb",
   "metadata": {},
   "outputs": [],
   "source": [
    "myarr=arr**2 "
   ]
  },
  {
   "cell_type": "code",
   "execution_count": 53,
   "id": "16ed76a3-61dc-4a9b-907a-abc872f1f63c",
   "metadata": {},
   "outputs": [
    {
     "data": {
      "text/plain": [
       "array([ 1,  4,  9, 16, 25, 36, 49, 64, 81])"
      ]
     },
     "execution_count": 53,
     "metadata": {},
     "output_type": "execute_result"
    }
   ],
   "source": [
    "myarr"
   ]
  },
  {
   "cell_type": "code",
   "execution_count": 59,
   "id": "d17ea109-3e75-4739-bfff-9fea2a8d138f",
   "metadata": {},
   "outputs": [],
   "source": [
    "my_arr=np.array([[1,2,3],[8,9,7]])\n"
   ]
  },
  {
   "cell_type": "code",
   "execution_count": 60,
   "id": "e416820f-860f-4e9a-8eac-572858833cbc",
   "metadata": {},
   "outputs": [
    {
     "data": {
      "text/plain": [
       "array([[1, 2, 3],\n",
       "       [8, 9, 7]])"
      ]
     },
     "execution_count": 60,
     "metadata": {},
     "output_type": "execute_result"
    }
   ],
   "source": [
    "my_arr\n"
   ]
  },
  {
   "cell_type": "code",
   "execution_count": 61,
   "id": "44515c02-541b-498b-ad06-8daa615f73ef",
   "metadata": {},
   "outputs": [],
   "source": [
    "my_arr2=np.array([[3,4,5],[9,8,7]])"
   ]
  },
  {
   "cell_type": "code",
   "execution_count": 62,
   "id": "aee0cc79-05f4-442a-93d5-c01f2b58a766",
   "metadata": {},
   "outputs": [
    {
     "data": {
      "text/plain": [
       "array([[3, 4, 5],\n",
       "       [9, 8, 7]])"
      ]
     },
     "execution_count": 62,
     "metadata": {},
     "output_type": "execute_result"
    }
   ],
   "source": [
    "my_arr2"
   ]
  },
  {
   "cell_type": "code",
   "execution_count": 63,
   "id": "bd65921e-b079-42a4-b62f-9c3aeb11e943",
   "metadata": {},
   "outputs": [],
   "source": [
    "my_new_arr=my_arr*my_arr2"
   ]
  },
  {
   "cell_type": "code",
   "execution_count": 64,
   "id": "870f7ac1-c179-4944-ad3d-9150d8301e95",
   "metadata": {},
   "outputs": [
    {
     "data": {
      "text/plain": [
       "array([[ 3,  8, 15],\n",
       "       [72, 72, 49]])"
      ]
     },
     "execution_count": 64,
     "metadata": {},
     "output_type": "execute_result"
    }
   ],
   "source": [
    "my_new_arr"
   ]
  },
  {
   "cell_type": "code",
   "execution_count": 67,
   "id": "d441f544-783d-44b2-9498-a461956c7779",
   "metadata": {},
   "outputs": [],
   "source": [
    "my_arr = np.array([[1, 2], [3, 4]])\n",
    "my_arr2 = np.array([[5, 6], [7, 8]])"
   ]
  },
  {
   "cell_type": "code",
   "execution_count": 68,
   "id": "0aa07ff1-ab36-4c7e-9464-98e9748a8136",
   "metadata": {},
   "outputs": [],
   "source": [
    "my_new_arr = my_arr @ my_arr2"
   ]
  },
  {
   "cell_type": "code",
   "execution_count": 69,
   "id": "5e5977e3-2ef4-4aca-8784-006efd3aefa8",
   "metadata": {},
   "outputs": [
    {
     "data": {
      "text/plain": [
       "array([[19, 22],\n",
       "       [43, 50]])"
      ]
     },
     "execution_count": 69,
     "metadata": {},
     "output_type": "execute_result"
    }
   ],
   "source": [
    "my_new_arr"
   ]
  },
  {
   "cell_type": "code",
   "execution_count": 70,
   "id": "305f9e90-d3bd-46d9-bdf3-e7ffe8070cdc",
   "metadata": {},
   "outputs": [],
   "source": [
    "my_new_arr=np.dot(my_arr,my_arr2)"
   ]
  },
  {
   "cell_type": "code",
   "execution_count": 71,
   "id": "399ba16a-e37d-42e1-af32-3f6249e11d34",
   "metadata": {},
   "outputs": [
    {
     "data": {
      "text/plain": [
       "array([[19, 22],\n",
       "       [43, 50]])"
      ]
     },
     "execution_count": 71,
     "metadata": {},
     "output_type": "execute_result"
    }
   ],
   "source": [
    "my_new_arr"
   ]
  },
  {
   "cell_type": "code",
   "execution_count": 74,
   "id": "44e56948-04e6-4752-b5e9-0cef00f8b1ce",
   "metadata": {},
   "outputs": [],
   "source": [
    "det=np.linalg.det(my_arr)"
   ]
  },
  {
   "cell_type": "code",
   "execution_count": 75,
   "id": "c1ae6933-99ec-4e93-8aac-3e9e5f08aa85",
   "metadata": {},
   "outputs": [
    {
     "data": {
      "text/plain": [
       "-2.0000000000000004"
      ]
     },
     "execution_count": 75,
     "metadata": {},
     "output_type": "execute_result"
    }
   ],
   "source": [
    "det"
   ]
  },
  {
   "cell_type": "code",
   "execution_count": 94,
   "id": "252aa32f-f556-43fa-bafe-1ab9db7de212",
   "metadata": {},
   "outputs": [],
   "source": [
    "ran=np.random.rand(100)"
   ]
  },
  {
   "cell_type": "code",
   "execution_count": 95,
   "id": "44be88a4-26b7-405e-8005-b3b42a7e66f8",
   "metadata": {
    "scrolled": true
   },
   "outputs": [
    {
     "data": {
      "text/plain": [
       "array([0.38214878, 0.60110287, 0.61475187, 0.38271634, 0.87209329,\n",
       "       0.15752153, 0.5267614 , 0.40842652, 0.03176431, 0.26110332,\n",
       "       0.57871003, 0.18725402, 0.09484897, 0.43438479, 0.82430921,\n",
       "       0.19212257, 0.9858362 , 0.56311601, 0.0816607 , 0.52700689,\n",
       "       0.55360419, 0.44912157, 0.31313867, 0.97764406, 0.47105001,\n",
       "       0.6513982 , 0.14428815, 0.48821458, 0.90429157, 0.82472026,\n",
       "       0.49067704, 0.95296257, 0.58335174, 0.99288091, 0.69942103,\n",
       "       0.17740318, 0.07521884, 0.65462092, 0.59771457, 0.76767736,\n",
       "       0.33052611, 0.67124601, 0.43317387, 0.40897497, 0.66538164,\n",
       "       0.51810342, 0.3921522 , 0.39007184, 0.24223748, 0.67974855,\n",
       "       0.47132882, 0.04886398, 0.29555487, 0.79403151, 0.10849353,\n",
       "       0.03719661, 0.45388824, 0.90227876, 0.1153054 , 0.13391626,\n",
       "       0.61895004, 0.68466815, 0.24872544, 0.56075635, 0.93374681,\n",
       "       0.75485543, 0.46926126, 0.3340845 , 0.30115253, 0.57761135,\n",
       "       0.05204993, 0.07833301, 0.36477802, 0.53398235, 0.15665738,\n",
       "       0.30432301, 0.34637811, 0.38540661, 0.77318379, 0.4376903 ,\n",
       "       0.86202135, 0.87923881, 0.20694998, 0.53521759, 0.25737118,\n",
       "       0.18348736, 0.6557691 , 0.2845003 , 0.25820472, 0.36274709,\n",
       "       0.56240459, 0.86664806, 0.02735587, 0.60319501, 0.19270341,\n",
       "       0.44158873, 0.89840277, 0.23423294, 0.75389988, 0.45033508])"
      ]
     },
     "execution_count": 95,
     "metadata": {},
     "output_type": "execute_result"
    }
   ],
   "source": [
    "ran"
   ]
  },
  {
   "cell_type": "code",
   "execution_count": 96,
   "id": "86eb9cb4-becf-43e2-9fcd-b4676c670fa6",
   "metadata": {},
   "outputs": [],
   "source": [
    "data = np.array([1, 2, 3, 4, 5, 6, 7, 8, 9])"
   ]
  },
  {
   "cell_type": "code",
   "execution_count": 97,
   "id": "f90be7eb-947f-465c-87f7-25ab7a3f91ef",
   "metadata": {},
   "outputs": [],
   "source": [
    "my_data=np.median(data)"
   ]
  },
  {
   "cell_type": "code",
   "execution_count": 98,
   "id": "5ddf8a3c-4611-4162-8d2d-bd67b63ebffb",
   "metadata": {},
   "outputs": [
    {
     "data": {
      "text/plain": [
       "5.0"
      ]
     },
     "execution_count": 98,
     "metadata": {},
     "output_type": "execute_result"
    }
   ],
   "source": [
    "my_data"
   ]
  },
  {
   "cell_type": "code",
   "execution_count": 99,
   "id": "929c9cd2-4b51-489e-9134-bf3bced7fa59",
   "metadata": {},
   "outputs": [
    {
     "name": "stdout",
     "output_type": "stream",
     "text": [
      "Requirement already satisfied: scipy in c:\\users\\admin\\appdata\\local\\programs\\python\\python311\\lib\\site-packages (1.11.1)Note: you may need to restart the kernel to use updated packages.\n",
      "\n",
      "Requirement already satisfied: numpy<1.28.0,>=1.21.6 in c:\\users\\admin\\appdata\\local\\programs\\python\\python311\\lib\\site-packages (from scipy) (1.25.2)\n"
     ]
    }
   ],
   "source": [
    "pip install scipy\n"
   ]
  },
  {
   "cell_type": "code",
   "execution_count": 102,
   "id": "c5abeb24-b555-46b4-87f2-d1a62a804fb5",
   "metadata": {},
   "outputs": [],
   "source": [
    "from scipy.stats import mode"
   ]
  },
  {
   "cell_type": "code",
   "execution_count": 103,
   "id": "0399a96f-be88-4c66-99f8-45ffd591b9d9",
   "metadata": {},
   "outputs": [],
   "source": [
    "res=mode(data)"
   ]
  },
  {
   "cell_type": "code",
   "execution_count": 104,
   "id": "d2acff03-139f-47ea-8122-204a4c85c4a6",
   "metadata": {},
   "outputs": [
    {
     "data": {
      "text/plain": [
       "ModeResult(mode=1, count=1)"
      ]
     },
     "execution_count": 104,
     "metadata": {},
     "output_type": "execute_result"
    }
   ],
   "source": [
    "res"
   ]
  },
  {
   "cell_type": "code",
   "execution_count": 3,
   "id": "66aa7b82-d5cb-4206-94b7-9b1e02d0a916",
   "metadata": {},
   "outputs": [
    {
     "name": "stdout",
     "output_type": "stream",
     "text": [
      "1.25.2\n",
      "openblas64__info:\n",
      "    libraries = ['openblas64_', 'openblas64_']\n",
      "    library_dirs = ['openblas\\\\lib']\n",
      "    language = c\n",
      "    define_macros = [('HAVE_CBLAS', None), ('BLAS_SYMBOL_SUFFIX', '64_'), ('HAVE_BLAS_ILP64', None)]\n",
      "    runtime_library_dirs = ['openblas\\\\lib']\n",
      "blas_ilp64_opt_info:\n",
      "    libraries = ['openblas64_', 'openblas64_']\n",
      "    library_dirs = ['openblas\\\\lib']\n",
      "    language = c\n",
      "    define_macros = [('HAVE_CBLAS', None), ('BLAS_SYMBOL_SUFFIX', '64_'), ('HAVE_BLAS_ILP64', None)]\n",
      "    runtime_library_dirs = ['openblas\\\\lib']\n",
      "openblas64__lapack_info:\n",
      "    libraries = ['openblas64_', 'openblas64_']\n",
      "    library_dirs = ['openblas\\\\lib']\n",
      "    language = c\n",
      "    define_macros = [('HAVE_CBLAS', None), ('BLAS_SYMBOL_SUFFIX', '64_'), ('HAVE_BLAS_ILP64', None), ('HAVE_LAPACKE', None)]\n",
      "    runtime_library_dirs = ['openblas\\\\lib']\n",
      "lapack_ilp64_opt_info:\n",
      "    libraries = ['openblas64_', 'openblas64_']\n",
      "    library_dirs = ['openblas\\\\lib']\n",
      "    language = c\n",
      "    define_macros = [('HAVE_CBLAS', None), ('BLAS_SYMBOL_SUFFIX', '64_'), ('HAVE_BLAS_ILP64', None), ('HAVE_LAPACKE', None)]\n",
      "    runtime_library_dirs = ['openblas\\\\lib']\n",
      "Supported SIMD extensions in this NumPy install:\n",
      "    baseline = SSE,SSE2,SSE3\n",
      "    found = SSSE3,SSE41,POPCNT,SSE42,AVX,F16C,FMA3,AVX2\n",
      "    not found = AVX512F,AVX512CD,AVX512_SKX,AVX512_CLX,AVX512_CNL,AVX512_ICL\n"
     ]
    }
   ],
   "source": [
    "print(np.__version__)\n",
    "np.show_config()"
   ]
  },
  {
   "cell_type": "code",
   "execution_count": null,
   "id": "17b4cb94-a1a3-4b0a-ad47-cfe1e28d6191",
   "metadata": {},
   "outputs": [],
   "source": []
  }
 ],
 "metadata": {
  "kernelspec": {
   "display_name": "Python 3 (ipykernel)",
   "language": "python",
   "name": "python3"
  },
  "language_info": {
   "codemirror_mode": {
    "name": "ipython",
    "version": 3
   },
   "file_extension": ".py",
   "mimetype": "text/x-python",
   "name": "python",
   "nbconvert_exporter": "python",
   "pygments_lexer": "ipython3",
   "version": "3.11.4"
  }
 },
 "nbformat": 4,
 "nbformat_minor": 5
}
